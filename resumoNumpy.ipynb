{
 "cells": [
  {
   "attachments": {},
   "cell_type": "markdown",
   "metadata": {},
   "source": [
    "*Vamos começar por funções básicas da Biblioteca:*"
   ]
  },
  {
   "attachments": {},
   "cell_type": "markdown",
   "metadata": {},
   "source": [
    "Primeiro vamos importar a Biblioteca"
   ]
  },
  {
   "cell_type": "code",
   "execution_count": 21,
   "metadata": {},
   "outputs": [],
   "source": [
    "import numpy as np \n",
    "#importamos a biblioteca com o \"apelido\" np, assim qualquer chamada de método estático(função) será feita atravez desse apelido ao invés de escrever numpy"
   ]
  },
  {
   "attachments": {},
   "cell_type": "markdown",
   "metadata": {},
   "source": [
    "Primeiramente vamos criar nossos primeiros arrays(vetores) com Numpy"
   ]
  },
  {
   "cell_type": "code",
   "execution_count": 22,
   "metadata": {},
   "outputs": [
    {
     "name": "stdout",
     "output_type": "stream",
     "text": [
      "a = [ 0  2  4  6  8 10 12 14 16 18] \n",
      "\n",
      "a = [0 1 2 3 4 5 6 7 8 9] \n",
      "\n",
      "a = [(1, 2, 3), (4, 5, 6)] \n",
      "\n",
      "a = [[0. 0. 0.]\n",
      " [0. 0. 0.]\n",
      " [0. 0. 0.]] \n",
      "\n"
     ]
    }
   ],
   "source": [
    "#Vale a pena lembrar que vetores possuem propriedades diferentes das listas do python\n",
    "\n",
    "#primeira forma de estanciar um vetor com numpy\n",
    "a = np.array([0, 2, 4, 6, 8, 10, 12, 14, 16, 18])\n",
    "\n",
    "#segunda forma\n",
    "b = np.arange(10)#essa função cria um vetor que parte do 0 e vai até o parametro -1\n",
    "\n",
    "#criando uma matriz\n",
    "x = ([(1, 2, 3), (4, 5, 6)])\n",
    "\n",
    "#criando uma matriz de zeros\n",
    "y = np.zeros((3,3))#os parametros definem as dimenções da matriz\n",
    "\n",
    "print(f\"a = {a} \\n\")\n",
    "print(f\"a = {b} \\n\")\n",
    "print(f\"a = {x} \\n\")\n",
    "print(f\"a = {y} \\n\")\n"
   ]
  },
  {
   "attachments": {},
   "cell_type": "markdown",
   "metadata": {},
   "source": [
    "Agora vamos fazer algumas operações básicas da biblioteca"
   ]
  },
  {
   "cell_type": "code",
   "execution_count": 23,
   "metadata": {},
   "outputs": [
    {
     "name": "stdout",
     "output_type": "stream",
     "text": [
      "[ 0  3  6  9 12 15 18 21 24 27]\n"
     ]
    }
   ],
   "source": [
    "c = a + b #Cria-se um novo Array com a soma dos elementos de mesmo indice dos vetores utilizados na conta\n",
    "print(c)"
   ]
  },
  {
   "cell_type": "code",
   "execution_count": 24,
   "metadata": {},
   "outputs": [
    {
     "name": "stdout",
     "output_type": "stream",
     "text": [
      "[ 0  3  6  9 12 15 18 21 24 27]\n"
     ]
    }
   ],
   "source": [
    "d = a + b #Cria-se um novo Array com a subtração dos elementos de mesmo indice dos vetores utilizados na conta\n",
    "print(d)"
   ]
  },
  {
   "cell_type": "code",
   "execution_count": 25,
   "metadata": {},
   "outputs": [
    {
     "name": "stdout",
     "output_type": "stream",
     "text": [
      "[ 0  3  6  9 12 15 18 21 24 27]\n"
     ]
    }
   ],
   "source": [
    "e = a + b #Cria-se um novo Array com a multiplicação dos elementos de mesmo indice dos vetores utilizados na conta\n",
    "print(e)"
   ]
  },
  {
   "cell_type": "code",
   "execution_count": 37,
   "metadata": {},
   "outputs": [
    {
     "name": "stdout",
     "output_type": "stream",
     "text": [
      "[0 2 1 1 1 1 1 1 1 1]\n"
     ]
    },
    {
     "name": "stderr",
     "output_type": "stream",
     "text": [
      "C:\\Users\\Caio\\AppData\\Local\\Temp\\ipykernel_21984\\1867375452.py:1: RuntimeWarning: divide by zero encountered in floor_divide\n",
      "  f = a // b #Cria-se um novo Array com a divisão entre elementos de mesmo indice dos vetores utilizados na conta\n"
     ]
    }
   ],
   "source": [
    "f = a // b #Cria-se um novo Array com a divisão inteira entre elementos de mesmo indice dos vetores utilizados na conta\n",
    "print(f)"
   ]
  },
  {
   "cell_type": "code",
   "execution_count": 27,
   "metadata": {},
   "outputs": [
    {
     "name": "stdout",
     "output_type": "stream",
     "text": [
      "[        1         2        16       216      4096    100000   2985984\n",
      " 105413504         0 790794752]\n"
     ]
    }
   ],
   "source": [
    "g = a ** b #Cria-se um novo Array com a exponenciação dos elementos de mesmo indice dos vetores utilizados na conta\n",
    "print(g)"
   ]
  },
  {
   "cell_type": "code",
   "execution_count": 28,
   "metadata": {},
   "outputs": [
    {
     "name": "stdout",
     "output_type": "stream",
     "text": [
      "[False False False  True  True  True  True  True  True  True]\n"
     ]
    }
   ],
   "source": [
    "h = a > 5 #Cria-se um novo Array com o valor booleano correspondente a operação lógica de comparação relativo a cada elemento do array\n",
    "print(h)"
   ]
  },
  {
   "attachments": {},
   "cell_type": "markdown",
   "metadata": {},
   "source": [
    "Métodos auxiliares"
   ]
  },
  {
   "cell_type": "code",
   "execution_count": 36,
   "metadata": {},
   "outputs": [
    {
     "name": "stdout",
     "output_type": "stream",
     "text": [
      "Soma = 55\n",
      "Média = 5.5\n",
      "Maior elemento = 10\n",
      "Menor elemento = 1\n"
     ]
    }
   ],
   "source": [
    "print(f\"Soma = {a.sum()}\")#soma de todos os elementos do array\n",
    "print(f\"Média = {a.mean()}\")#Valor medio dos elementos do array\n",
    "\n",
    "print(f\"Maior elemento = {a.max()}\")#retorna o maior número do array\n",
    "print(f\"Menor elemento = {a.min()}\")#retorna o menor número do array"
   ]
  },
  {
   "attachments": {},
   "cell_type": "markdown",
   "metadata": {},
   "source": [
    "Siling(selecionar os dados do array)"
   ]
  },
  {
   "cell_type": "code",
   "execution_count": 30,
   "metadata": {},
   "outputs": [],
   "source": [
    "a = np.array([1, 2, 3, 4, 5, 6, 7, 8, 9, 10])#sobrescrevendo o array anterior para facilitar o entendimento"
   ]
  },
  {
   "cell_type": "code",
   "execution_count": 31,
   "metadata": {},
   "outputs": [
    {
     "data": {
      "text/plain": [
       "3"
      ]
     },
     "execution_count": 31,
     "metadata": {},
     "output_type": "execute_result"
    }
   ],
   "source": [
    "a[2]#selecionando o elemento do indice escrito"
   ]
  },
  {
   "cell_type": "code",
   "execution_count": 32,
   "metadata": {},
   "outputs": [
    {
     "data": {
      "text/plain": [
       "10"
      ]
     },
     "execution_count": 32,
     "metadata": {},
     "output_type": "execute_result"
    }
   ],
   "source": [
    "a[-1]#selecionando o último elemento do array"
   ]
  },
  {
   "cell_type": "code",
   "execution_count": 33,
   "metadata": {},
   "outputs": [
    {
     "data": {
      "text/plain": [
       "array([3, 4, 5])"
      ]
     },
     "execution_count": 33,
     "metadata": {},
     "output_type": "execute_result"
    }
   ],
   "source": [
    "a[2:5]#seleciona os elementos de índice 2 ao 5"
   ]
  },
  {
   "cell_type": "code",
   "execution_count": 34,
   "metadata": {},
   "outputs": [
    {
     "data": {
      "text/plain": [
       "array([ 7,  8,  9, 10])"
      ]
     },
     "execution_count": 34,
     "metadata": {},
     "output_type": "execute_result"
    }
   ],
   "source": [
    "a[6:]#seleciona os elementos do índice 6 ao fim o vetor"
   ]
  },
  {
   "cell_type": "code",
   "execution_count": 35,
   "metadata": {},
   "outputs": [
    {
     "data": {
      "text/plain": [
       "array([1, 2, 3, 4, 5, 6])"
      ]
     },
     "execution_count": 35,
     "metadata": {},
     "output_type": "execute_result"
    }
   ],
   "source": [
    "a[:6]#seleciona os elementos desde o inicio ao de índice 6"
   ]
  }
 ],
 "metadata": {
  "kernelspec": {
   "display_name": "Python 3",
   "language": "python",
   "name": "python3"
  },
  "language_info": {
   "codemirror_mode": {
    "name": "ipython",
    "version": 3
   },
   "file_extension": ".py",
   "mimetype": "text/x-python",
   "name": "python",
   "nbconvert_exporter": "python",
   "pygments_lexer": "ipython3",
   "version": "3.10.6"
  },
  "orig_nbformat": 4,
  "vscode": {
   "interpreter": {
    "hash": "9cbdc75d9e2f55d2d9002e3a3bcb34fdd032c5e2f75dfba8f134282fc3e89518"
   }
  }
 },
 "nbformat": 4,
 "nbformat_minor": 2
}
